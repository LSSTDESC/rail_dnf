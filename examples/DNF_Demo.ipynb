{
 "cells": [
  {
   "cell_type": "markdown",
   "metadata": {},
   "source": [
    "# RAIL's DNF implementation example\n",
    "\n",
    "authors: Laura Toribio san Cipriano, Sam Schmidt\n",
    "last successfully run: Jan 13, 2025\n",
    "\n",
    "A quick demo of the DNF package in RAIL.\n",
    "\n",
    "\n",
    "[Need to add more about the algorithm and options here!]"
   ]
  },
  {
   "cell_type": "code",
   "execution_count": null,
   "metadata": {},
   "outputs": [],
   "source": [
    "import os\n",
    "import matplotlib.pyplot as plt\n",
    "import numpy as np\n",
    "#%matplotlib inline "
   ]
  },
  {
   "cell_type": "code",
   "execution_count": null,
   "metadata": {},
   "outputs": [],
   "source": [
    "import rail\n",
    "import qp\n",
    "from rail.core.data import TableHandle\n",
    "from rail.core.stage import RailStage"
   ]
  },
  {
   "cell_type": "code",
   "execution_count": null,
   "metadata": {},
   "outputs": [],
   "source": [
    "DS = RailStage.data_store\n",
    "DS.__class__.allow_overwrite = True"
   ]
  },
  {
   "cell_type": "markdown",
   "metadata": {},
   "source": [
    "## Training the informer"
   ]
  },
  {
   "cell_type": "code",
   "execution_count": null,
   "metadata": {},
   "outputs": [],
   "source": [
    "dnf_dict = dict(zmin=0.0, zmax=3.0, nzbins=301, hdf5_groupname='photometry')"
   ]
  },
  {
   "cell_type": "markdown",
   "metadata": {},
   "source": [
    "We will begin by training the algorithm, to to this we instantiate a rail object with a call to the base class.<br>"
   ]
  },
  {
   "cell_type": "code",
   "execution_count": null,
   "metadata": {},
   "outputs": [],
   "source": [
    "from rail.estimation.algos.dnf import DNFInformer, DNFEstimator\n",
    "pz_train = DNFInformer.make_stage(name='inform_DNF', model='demo_DNF_model.pkl', **dnf_dict)"
   ]
  },
  {
   "cell_type": "markdown",
   "metadata": {},
   "source": [
    "Now, let's load our training data, which is stored in hdf5 format.  We'll load it into the Data Store so that the ceci stages are able to access it."
   ]
  },
  {
   "cell_type": "code",
   "execution_count": null,
   "metadata": {},
   "outputs": [],
   "source": [
    "from rail.utils.path_utils import RAILDIR\n",
    "trainFile = os.path.join(RAILDIR, 'rail/examples_data/testdata/test_dc2_training_9816.hdf5')\n",
    "testFile = os.path.join(RAILDIR, 'rail/examples_data/testdata/test_dc2_validation_9816.hdf5')\n",
    "training_data = DS.read_file(\"training_data\", TableHandle, trainFile)\n",
    "test_data = DS.read_file(\"test_data\", TableHandle, testFile)"
   ]
  },
  {
   "cell_type": "markdown",
   "metadata": {},
   "source": [
    "The inform stage for CMNN should not take long to run, it essentially just converts the magnitudes to colors for the training data and stores those as a model dictionary which is stored in a pickle file specfied by the `model` keyword above, in this case \"demo_cmnn_model.pkl\". This file should appear in the directory after we run the inform stage in the cell below:"
   ]
  },
  {
   "cell_type": "code",
   "execution_count": null,
   "metadata": {},
   "outputs": [],
   "source": [
    "%%time\n",
    "pz_train.inform(training_data)"
   ]
  },
  {
   "cell_type": "markdown",
   "metadata": {},
   "source": [
    "We can now set up the main photo-z stage and run our algorithm on the data to produce simple photo-z estimates.  Note that we are loading the trained model that we computed from the inform stage: with the `model=pz_train.get_handle('model')` statement.  We will set `nondetect_replace` to `True` to replace our non-detection magnitudes with their 1-sigma limits and use all colors.<br>\n",
    "\n",
    "DNF allows three different methods for choosing the distance metric: Euclidean (\"ENF\" set with `selection_mode` of `0`), Angular (\"ANF\" set with selection_mode of `1`, this is the default for the stage), and Directional (\"DNF\" set with `selection_mode` of `2`).\n",
    "\n",
    "In our first example, let's set the `selection_mode` to \"1\", which will use the angular distance:"
   ]
  },
  {
   "cell_type": "code",
   "execution_count": null,
   "metadata": {},
   "outputs": [],
   "source": [
    "%%time\n",
    "pz = DNFEstimator.make_stage(name='DNF_estimate', hdf5_groupname='photometry',\n",
    "                        model=pz_train.get_handle('model'),\n",
    "                        selection_mode=1,\n",
    "                        min_n=15,\n",
    "                        bad_redshift_val=99.,\n",
    "                        bad_redshift_err=10.,\n",
    "                        nondetect_replace=True)\n",
    "results = pz.estimate(test_data)"
   ]
  },
  {
   "cell_type": "markdown",
   "metadata": {},
   "source": [
    "DNF calculates its own point estimate, `DNF_Z`, which is stored in the qp Ensemble `ancil` data.  Let's plot that versus the true redshift.  We can also compute the PDF mode for each object and plot that as well:\n",
    "\n",
    "# NOTE: we should probably say what the DNF_Z is exactly, is it mean of the PDF?"
   ]
  },
  {
   "cell_type": "code",
   "execution_count": null,
   "metadata": {},
   "outputs": [],
   "source": [
    "#zmode = results().ancil['zmode']\n",
    "zdnf = results().ancil['DNF_Z'].flatten()"
   ]
  },
  {
   "cell_type": "code",
   "execution_count": null,
   "metadata": {},
   "outputs": [],
   "source": [
    "zgrid = np.linspace(0,3,301)\n",
    "zmode = results().mode(zgrid).flatten()"
   ]
  },
  {
   "cell_type": "code",
   "execution_count": null,
   "metadata": {},
   "outputs": [],
   "source": [
    "zmode"
   ]
  },
  {
   "cell_type": "markdown",
   "metadata": {},
   "source": [
    "Let's plot the redshift mode against the true redshifts to see how they look:"
   ]
  },
  {
   "cell_type": "code",
   "execution_count": null,
   "metadata": {},
   "outputs": [],
   "source": [
    "plt.figure(figsize=(8,8))\n",
    "plt.scatter(test_data()['photometry']['redshift'],zmode,s=1,c='k',label='DNF mode')\n",
    "plt.plot([0,3],[0,3],'r--');\n",
    "plt.xlabel(\"true redshift\")\n",
    "plt.ylabel(\"DNF photo-z mode\")\n",
    "plt.ylim(0,3)"
   ]
  },
  {
   "cell_type": "code",
   "execution_count": null,
   "metadata": {},
   "outputs": [],
   "source": [
    "plt.figure(figsize=(8,8))\n",
    "plt.scatter(test_data()['photometry']['redshift'], zdnf, s=1, c='k')\n",
    "plt.plot([0,3],[0,3], 'r--');\n",
    "plt.xlabel(\"true redshift\")\n",
    "plt.ylabel(\"DNF_Z\")\n",
    "plt.ylim(0,3)"
   ]
  },
  {
   "cell_type": "markdown",
   "metadata": {},
   "source": [
    "## plotting PDFs\n",
    "\n",
    "In addition to point estimates, we can also plot a few of the full PDFs produced by DNF using the `plot_native` method of the qp Ensemble that we've created as `results`.  We can specify which PDF to plot with the `key` argument to `plot_native`, let's plot four, the 5th, 1380th, 14481st, and 18871st:"
   ]
  },
  {
   "cell_type": "code",
   "execution_count": null,
   "metadata": {},
   "outputs": [],
   "source": [
    "fig, axs = plt.subplots(2, 2, figsize=(12,8))\n",
    "whichgals = [4, 1379, 14480, 18870]\n",
    "for ax, which in zip(axs.flat, whichgals):\n",
    "    ax.set_xlim(0,3)\n",
    "    results().plot_native(key=which, axes=ax)\n",
    "    ax.set_xlabel(\"redshift\")\n",
    "    ax.set_ylabel(\"p(z)\")"
   ]
  },
  {
   "cell_type": "markdown",
   "metadata": {},
   "source": [
    "We see quite a bit of structure in the DNF PDFs, with lots of discrete peaks. \n",
    "\n",
    "\n",
    "## NOTE: we should probably add more about DNF and why the PDFs look this way with all of the little bumps!!!!!\n",
    "\n",
    "\n",
    "# Other distance metrics\n",
    "\n",
    "Besides \"DNF\" there are options for \"ENF\" and \"ANF\" (I don't know what the differences are, looks to be the metric used, and \"direction\", \"euclidean\", and \"angular\".  We would have to read the paper for details), try these out.\n",
    "\n",
    "Let's run our estimator using `selection_mode=0` for the Euclidean distance, and compare both the mode results and PDF results:"
   ]
  },
  {
   "cell_type": "code",
   "execution_count": null,
   "metadata": {},
   "outputs": [],
   "source": [
    "%%time\n",
    "pz2 = DNFEstimator.make_stage(name='DNF_estimate2', hdf5_groupname='photometry',\n",
    "                        model=pz_train.get_handle('model'),\n",
    "                        selection_mode=0,\n",
    "                        min_n=15,\n",
    "                        bad_redshift_val=99.,\n",
    "                        bad_redshift_err=10.,\n",
    "                        nondetect_replace=True)\n",
    "results2 = pz2.estimate(test_data)"
   ]
  },
  {
   "cell_type": "code",
   "execution_count": null,
   "metadata": {},
   "outputs": [],
   "source": [
    "zdnf2 = results2().ancil['DNF_Z'].flatten()"
   ]
  },
  {
   "cell_type": "code",
   "execution_count": null,
   "metadata": {},
   "outputs": [],
   "source": [
    "zgrid = np.linspace(0,3,301)\n",
    "zmode2 = results2().mode(zgrid).flatten()"
   ]
  },
  {
   "cell_type": "markdown",
   "metadata": {},
   "source": [
    "First, we can plot the DNF and mode plots on their own, they look very similar, but not exactly the same, as the \"angular\" distance estimates:"
   ]
  },
  {
   "cell_type": "code",
   "execution_count": null,
   "metadata": {},
   "outputs": [],
   "source": [
    "plt.figure(figsize=(8,8))\n",
    "plt.scatter(test_data()['photometry']['redshift'],zmode2,s=1,c='k',label='DNF mode')\n",
    "plt.plot([0,3],[0,3],'r--');\n",
    "plt.xlabel(\"true redshift\")\n",
    "plt.ylabel(\"DNF photo-z mode\")\n",
    "plt.ylim(0,3)"
   ]
  },
  {
   "cell_type": "code",
   "execution_count": null,
   "metadata": {},
   "outputs": [],
   "source": [
    "plt.figure(figsize=(8,8))\n",
    "plt.scatter(test_data()['photometry']['redshift'], zdnf2, s=1, c='k')\n",
    "plt.plot([0,3],[0,3], 'r--');\n",
    "plt.xlabel(\"true redshift\")\n",
    "plt.ylabel(\"DNF_Z\")\n",
    "plt.ylim(0,3)"
   ]
  },
  {
   "cell_type": "markdown",
   "metadata": {},
   "source": [
    "Let's directly compare the \"angular\" and \"Euclidean\" distance estimates on the same axes:"
   ]
  },
  {
   "cell_type": "code",
   "execution_count": null,
   "metadata": {},
   "outputs": [],
   "source": [
    "plt.figure(figsize=(8,8))\n",
    "plt.scatter(test_data()['photometry']['redshift'], zdnf, s=2, c='k', label=\"angular\")\n",
    "plt.scatter(test_data()['photometry']['redshift'], zdnf2, s=1, c='r', label=\"Euclidean\")\n",
    "plt.legend(loc='upper left', fontsize=10)\n",
    "plt.plot([0,3],[0,3], 'm--');\n",
    "plt.xlabel(\"true redshift\")\n",
    "plt.ylabel(\"DNF_Z\")\n",
    "plt.ylim(0,3)"
   ]
  },
  {
   "cell_type": "code",
   "execution_count": null,
   "metadata": {},
   "outputs": [],
   "source": [
    "plt.figure(figsize=(8,8))\n",
    "plt.scatter(test_data()['photometry']['redshift'], zmode, s=2, c='k')\n",
    "plt.scatter(test_data()['photometry']['redshift'], zmode2, s=1, c='r')\n",
    "plt.plot([0,3],[0,3], 'm--');\n",
    "plt.xlabel(\"true redshift\")\n",
    "plt.ylabel(\"DNF_Z\")\n",
    "plt.ylim(0,3)"
   ]
  },
  {
   "cell_type": "markdown",
   "metadata": {},
   "source": [
    "Finally, let's directly compare the same PDFs that we plotted above"
   ]
  },
  {
   "cell_type": "code",
   "execution_count": null,
   "metadata": {},
   "outputs": [],
   "source": [
    "fig, axs = plt.subplots(2, 2, figsize=(12,8))\n",
    "whichgals = [4, 1379, 14480, 18870]\n",
    "for ax, which in zip(axs.flat, whichgals):\n",
    "    ax.set_xlim(0,3)\n",
    "    results().plot_native(key=which, axes=ax, label=\"angular\")\n",
    "    results2().plot_native(key=which, axes=ax, label=\"Euclidean\")\n",
    "    ax.set_xlabel(\"redshift\")\n",
    "    ax.set_ylabel(\"p(z)\")\n",
    "ax.legend(loc='upper left', fontsize=12)"
   ]
  },
  {
   "cell_type": "markdown",
   "metadata": {},
   "source": [
    "Similar to the mode and DNF point estimates, we see that the PDFs look similar, but not exactly the same."
   ]
  },
  {
   "cell_type": "code",
   "execution_count": null,
   "metadata": {},
   "outputs": [],
   "source": []
  }
 ],
 "metadata": {
  "kernelspec": {
   "display_name": "Python 3 (ipykernel)",
   "language": "python",
   "name": "python3"
  },
  "language_info": {
   "codemirror_mode": {
    "name": "ipython",
    "version": 3
   },
   "file_extension": ".py",
   "mimetype": "text/x-python",
   "name": "python",
   "nbconvert_exporter": "python",
   "pygments_lexer": "ipython3",
   "version": "3.10.16"
  }
 },
 "nbformat": 4,
 "nbformat_minor": 4
}
